{
 "cells": [
  {
   "cell_type": "markdown",
   "id": "f3a94248-54bd-40d9-a816-6d273b401399",
   "metadata": {},
   "source": [
    "Zadanie 1.\n",
    "Dla poniższych funkcji i punktów początkowych metoda Newtonazawodzi. Wyjaśnij dlaczego. Następnie znajdź pierwiastki, modyfikując wywo-łanie funkcji scipy.optimize.newton lub używając innej metody."
   ]
  },
  {
   "cell_type": "markdown",
   "id": "904db58d-f2ff-4adb-8d67-75c17adae055",
   "metadata": {},
   "source": [
    "(a)f(x) =x3−5x,x0= 1"
   ]
  },
  {
   "cell_type": "markdown",
   "id": "c66f672c-6ae8-40bb-8f0b-3933da723e6c",
   "metadata": {},
   "source": [
    "(b)f(x) =x3−3x+ 1,x0= 1"
   ]
  },
  {
   "cell_type": "markdown",
   "id": "ed0fcd92-76ef-4d37-ae02-20096d273e48",
   "metadata": {},
   "source": [
    "(c)f(x) = 2−x5,x0= 0.01"
   ]
  },
  {
   "cell_type": "markdown",
   "id": "f4da356c-57e8-4f7a-8f5b-6b158ff4b0cb",
   "metadata": {},
   "source": [
    "(d)f(x) =x4−4.29x2−5.29,x0= 0.8"
   ]
  },
  {
   "cell_type": "code",
   "execution_count": 22,
   "id": "1a0b987f-b306-4fad-a037-3f598c953580",
   "metadata": {},
   "outputs": [],
   "source": [
    "import numpy as np\n",
    "import matplotlib.pyplot as plt\n",
    "import math\n",
    "from scipy.optimize import newton, root"
   ]
  },
  {
   "cell_type": "code",
   "execution_count": 23,
   "id": "463171cd-1998-48fb-bc76-9c279abaa43d",
   "metadata": {},
   "outputs": [],
   "source": [
    "def derivative_central(f, x, h):\n",
    "    df = (f(x + h) - f(x - h)) / (2*h)\n",
    "    return df"
   ]
  },
  {
   "cell_type": "code",
   "execution_count": 24,
   "id": "8f161293-9401-4f47-b8b5-11ee5771f7d5",
   "metadata": {},
   "outputs": [],
   "source": [
    "def f_a(x):\n",
    "    return x ** 3 - 5 * x"
   ]
  },
  {
   "cell_type": "code",
   "execution_count": 25,
   "id": "628ea32a-122c-4dbc-bcdf-556661ef0fb1",
   "metadata": {},
   "outputs": [],
   "source": [
    "def f_b(x):\n",
    "    return x ** 3 - 3 * x + 1"
   ]
  },
  {
   "cell_type": "code",
   "execution_count": 26,
   "id": "1eb5e514-6de2-4327-9884-24bef50d033d",
   "metadata": {},
   "outputs": [],
   "source": [
    "def f_c(x):\n",
    "    return 2 - x ** 5"
   ]
  },
  {
   "cell_type": "code",
   "execution_count": 27,
   "id": "6b47edff-5e73-4317-b7d7-c1017d9241bb",
   "metadata": {},
   "outputs": [],
   "source": [
    "def f_d(x):\n",
    "    return x ** 4 - 4.29 * x **2 - 5.29"
   ]
  },
  {
   "cell_type": "code",
   "execution_count": 28,
   "id": "293071e5-aab0-40d1-91a0-086e860bfabc",
   "metadata": {},
   "outputs": [
    {
     "name": "stdout",
     "output_type": "stream",
     "text": [
      "[4.744493466790075e-24, 1.0000007188230098, 0.01, -0.7870232540616441]\n",
      "[0.]\n",
      "[1.0015534]\n",
      "[1.14869835]\n",
      "[0.00207867]\n"
     ]
    }
   ],
   "source": [
    "functions_1 = [f_a, f_b, f_c, f_d]\n",
    "xs = [1, 1, 0.01, 0.8]\n",
    "solve_1 = []\n",
    "solve_1_better = []\n",
    "for func, x0 in zip(functions_1, xs):\n",
    "    solve_1.append(newton(func, x0))\n",
    "    solve_1_better.append(root(func, x0))\n",
    "\n",
    "print(solve_1)\n",
    "for i in range(len(functions_1)):\n",
    "    print(solve_1_better[i].x)"
   ]
  },
  {
   "cell_type": "raw",
   "id": "7053448f-7021-4461-ac5d-277123328566",
   "metadata": {},
   "source": [
    "Zadanie 2.\n",
    "Dane jest równanie:\n",
    "            f(x) =x2−3x+ 2 = 0\n",
    "Każda z następujących funkcji definiuje równoważny schemat iteracyjny:\n",
    "            g1(x) = (x2+ 2)/3,\n",
    "            g2(x) =√(3x−2),\n",
    "            g3(x) = 3−2/x,\n",
    "            g4(x) = (x2−2)/(2x−3)."
   ]
  },
  {
   "cell_type": "markdown",
   "id": "b909c5c5-2f24-4112-a5da-8544f7ff08e4",
   "metadata": {},
   "source": [
    "a)  Przeanalizuj zbieżność oraz rząd zbieżności schematów iteracyjnych odpo-wiadających funkcjomgi(x)dla pierwiastkax= 2badając wartość|g′i(2)|."
   ]
  },
  {
   "cell_type": "markdown",
   "id": "783ccdc4-41c5-411a-a0a2-0b702fe284bc",
   "metadata": {},
   "source": [
    "(b)  Potwierdź analizę teoretyczną implementując powyższe schematy iteracyjnei weryfikując ich zbieżność (lub brak). Każdy schemat iteracyjny wykonajprzez 10 iteracji.Wyznacz eksprymentalnie rząd zbieżności każdej metody iteracyjnej ze wzoru\n",
    "r=lnεkεk+1lnεk−1εk\n",
    "gdzie błąd bezwzględnyεkdefiniujemy jakoεk=|xk−x∗|,xkjest przybli-żeniem pierwiastka wk-tej iteracji, ax∗dokładnym położeniem pierwiastkarównania."
   ]
  },
  {
   "cell_type": "markdown",
   "id": "94c92e8b-820a-4402-9f3b-e7728dd1d11d",
   "metadata": {},
   "source": [
    "(c)  Na wspólnym rysynku przedstaw wykresy błędu względnego każdej metodyw zależności od numeru iteracji. Użyj skali logarytmicznej na osi y (pomocnabędzie funkcjasemilogy).Stwórz drugi rysunek, przedstawiający wykresy błędu względnego tylko dlametod zbieżnych."
   ]
  },
  {
   "cell_type": "code",
   "execution_count": 29,
   "id": "05194cb5-2f4d-4628-82d6-13f692692282",
   "metadata": {},
   "outputs": [],
   "source": [
    "def f_2(x):\n",
    "    return x**2 - 3*x + 2"
   ]
  },
  {
   "cell_type": "code",
   "execution_count": 30,
   "id": "7c6e02af-ffba-47cd-92fc-eb4583764b20",
   "metadata": {},
   "outputs": [],
   "source": [
    "def g1(x):\n",
    "    return (x**2 + 2)/3"
   ]
  },
  {
   "cell_type": "code",
   "execution_count": 31,
   "id": "bfa21155-b4d0-46ca-9825-0f9e986d5897",
   "metadata": {},
   "outputs": [],
   "source": [
    "def g2(x):\n",
    "    return np.sqrt(3*x - 2)"
   ]
  },
  {
   "cell_type": "code",
   "execution_count": 32,
   "id": "91f42c1e-f4d4-4019-a8e3-c9cac594dd89",
   "metadata": {},
   "outputs": [],
   "source": [
    "def g3(x):\n",
    "    return 3 - 2/x"
   ]
  },
  {
   "cell_type": "code",
   "execution_count": 33,
   "id": "67133d7f-6029-43ca-b705-28a11bdac358",
   "metadata": {},
   "outputs": [],
   "source": [
    "def g4(x):\n",
    "    return (x**2 - 2)/(2*x - 3)"
   ]
  },
  {
   "cell_type": "code",
   "execution_count": 71,
   "id": "98998914-87e8-4f51-9c62-ce89ce1ef5e0",
   "metadata": {},
   "outputs": [],
   "source": [
    "def g1_prime(x):\n",
    "    return 2 * x / 3"
   ]
  },
  {
   "cell_type": "code",
   "execution_count": 72,
   "id": "97094903-4bc3-4db9-afb5-b0fb34d9f2f6",
   "metadata": {},
   "outputs": [],
   "source": [
    "def g2_prime(x):\n",
    "    return 3 / (2 * np.sqrt(3 * x))"
   ]
  },
  {
   "cell_type": "code",
   "execution_count": 73,
   "id": "271565d7-1907-4c98-bbb5-6b55f18778d1",
   "metadata": {},
   "outputs": [],
   "source": [
    "def g3_prime(x):\n",
    "    return 2 / x**2"
   ]
  },
  {
   "cell_type": "code",
   "execution_count": 74,
   "id": "5655acf6-842e-4722-9499-5d54c512f5ce",
   "metadata": {},
   "outputs": [],
   "source": [
    "def g4_prime(x):\n",
    "    return (4 * x - 6 - 2 * x**2) / (2 * x - 3)**2"
   ]
  },
  {
   "cell_type": "code",
   "execution_count": 76,
   "id": "6b8a17be-b624-4363-8ed9-c25b091fe2c9",
   "metadata": {},
   "outputs": [
    {
     "name": "stdout",
     "output_type": "stream",
     "text": [
      "Wartości bezwzględne pochodnych w punkcie x=2:\n",
      "|g1'(2)| = 1.3333333333333333\n",
      "|g2'(2)| = 0.6123724356957946\n",
      "|g3'(2)| = 0.5\n",
      "|g4'(2)| = 6.0\n"
     ]
    }
   ],
   "source": [
    "# Wartości bezwzględne pochodnych w punkcie x=2\n",
    "g1_prime_2 = abs(g1_prime(2))\n",
    "g2_prime_2 = abs(g2_prime(2))\n",
    "g3_prime_2 = abs(g3_prime(2))\n",
    "g4_prime_2 = abs(g4_prime(2))\n",
    "\n",
    "print(\"Wartości bezwzględne pochodnych w punkcie x=2:\")\n",
    "print(\"|g1'(2)| =\", g1_prime_2)\n",
    "print(\"|g2'(2)| =\", g2_prime_2)\n",
    "print(\"|g3'(2)| =\", g3_prime_2)\n",
    "print(\"|g4'(2)| =\", g4_prime_2)"
   ]
  },
  {
   "cell_type": "code",
   "execution_count": 81,
   "id": "e5da10b8-c058-4760-b82b-3e126aba9008",
   "metadata": {},
   "outputs": [],
   "source": [
    "def absolute_error(x):\n",
    "    return np.abs(x - x_star)"
   ]
  },
  {
   "cell_type": "code",
   "execution_count": 88,
   "id": "69a3d1ed-6ed8-4541-89aa-12ac6a28c7b3",
   "metadata": {},
   "outputs": [],
   "source": [
    "def order_of_convergence(epsilon_k, epsilon_kplus1):\n",
    "    if epsilon_k <= 0 or epsilon_kplus1 <= 0:\n",
    "        return 0\n",
    "    return np.log(epsilon_k / epsilon_kplus1) / np.log(epsilon_kplus1 / epsilon_k)"
   ]
  },
  {
   "cell_type": "code",
   "execution_count": 89,
   "id": "da894b6c-4ab7-4926-a93e-67c2a9f4175b",
   "metadata": {},
   "outputs": [],
   "source": [
    "def iterative_method(g, x0, iterations):\n",
    "    x = x0\n",
    "    for i in range(iterations):\n",
    "        x = g(x)\n",
    "        epsilon = absolute_error(x)\n",
    "        print(f\"Iteracja {i+1}: x = {x}, epsilon = {epsilon}\")\n",
    "    return x"
   ]
  },
  {
   "cell_type": "code",
   "execution_count": 90,
   "id": "191e52eb-9ff8-4dc1-8720-ed6608dc18f7",
   "metadata": {},
   "outputs": [],
   "source": [
    "x0 = 2\n",
    "\n",
    "iterations = 10\n",
    "\n",
    "x_star = 2\n",
    "\n",
    "errors_g1 = []\n",
    "errors_g2 = []\n",
    "errors_g3 = []\n",
    "errors_g4 = []"
   ]
  },
  {
   "cell_type": "code",
   "execution_count": 91,
   "id": "14b84081-f136-4aaa-83a2-29449c2d694c",
   "metadata": {
    "scrolled": true
   },
   "outputs": [
    {
     "name": "stdout",
     "output_type": "stream",
     "text": [
      "Metoda g1(x):\n",
      "Iteracja 1: x = 2.0, epsilon = 0.0\n",
      "Iteracja 2: x = 2.0, epsilon = 0.0\n",
      "Iteracja 3: x = 2.0, epsilon = 0.0\n",
      "Iteracja 4: x = 2.0, epsilon = 0.0\n",
      "Iteracja 5: x = 2.0, epsilon = 0.0\n",
      "Iteracja 6: x = 2.0, epsilon = 0.0\n",
      "Iteracja 7: x = 2.0, epsilon = 0.0\n",
      "Iteracja 8: x = 2.0, epsilon = 0.0\n",
      "Iteracja 9: x = 2.0, epsilon = 0.0\n",
      "Iteracja 10: x = 2.0, epsilon = 0.0\n",
      "\n",
      "Metoda g2(x):\n",
      "Iteracja 1: x = 2.0, epsilon = 0.0\n",
      "Iteracja 2: x = 2.0, epsilon = 0.0\n",
      "Iteracja 3: x = 2.0, epsilon = 0.0\n",
      "Iteracja 4: x = 2.0, epsilon = 0.0\n",
      "Iteracja 5: x = 2.0, epsilon = 0.0\n",
      "Iteracja 6: x = 2.0, epsilon = 0.0\n",
      "Iteracja 7: x = 2.0, epsilon = 0.0\n",
      "Iteracja 8: x = 2.0, epsilon = 0.0\n",
      "Iteracja 9: x = 2.0, epsilon = 0.0\n",
      "Iteracja 10: x = 2.0, epsilon = 0.0\n",
      "\n",
      "Metoda g3(x):\n",
      "Iteracja 1: x = 2.0, epsilon = 0.0\n",
      "Iteracja 2: x = 2.0, epsilon = 0.0\n",
      "Iteracja 3: x = 2.0, epsilon = 0.0\n",
      "Iteracja 4: x = 2.0, epsilon = 0.0\n",
      "Iteracja 5: x = 2.0, epsilon = 0.0\n",
      "Iteracja 6: x = 2.0, epsilon = 0.0\n",
      "Iteracja 7: x = 2.0, epsilon = 0.0\n",
      "Iteracja 8: x = 2.0, epsilon = 0.0\n",
      "Iteracja 9: x = 2.0, epsilon = 0.0\n",
      "Iteracja 10: x = 2.0, epsilon = 0.0\n",
      "\n",
      "Metoda g4(x):\n",
      "Iteracja 1: x = 2.0, epsilon = 0.0\n",
      "Iteracja 2: x = 2.0, epsilon = 0.0\n",
      "Iteracja 3: x = 2.0, epsilon = 0.0\n",
      "Iteracja 4: x = 2.0, epsilon = 0.0\n",
      "Iteracja 5: x = 2.0, epsilon = 0.0\n",
      "Iteracja 6: x = 2.0, epsilon = 0.0\n",
      "Iteracja 7: x = 2.0, epsilon = 0.0\n",
      "Iteracja 8: x = 2.0, epsilon = 0.0\n",
      "Iteracja 9: x = 2.0, epsilon = 0.0\n",
      "Iteracja 10: x = 2.0, epsilon = 0.0\n",
      "\n",
      "Rząd zbieżności metody g1(x): [0, 0, -1.0, -0.9999999999999998, -0.9999999999999999, -0.9999999999999997, -0.9999999999999998, -0.9999999999999999, -1.0000000000000002]\n",
      "Rząd zbieżności metody g2(x): [0, 0, -1.0, -1.0, -1.0, -1.0000000000000002, -0.9999999999999991, -0.9999999999999997, -1.0000000000000007]\n",
      "Rząd zbieżności metody g3(x): [0, 0, -1.0, -1.0000000000000004, -1.0000000000000004, -1.0000000000000007, -1.0000000000000002, -1.000000000000002, -1.0000000000000002]\n",
      "Rząd zbieżności metody g4(x): [0, 0, -1.0000000000000002, -1.0, -1.0000000000000002, -1.0, -0.9999999999999996, -0.9999999999999998, -0.9999999999999994]\n"
     ]
    }
   ],
   "source": [
    "# Przeprowadzenie iteracji dla każdej funkcji g_i(x)\n",
    "print(\"Metoda g1(x):\")\n",
    "x_g1 = iterative_method(g1, 2, 10)\n",
    "\n",
    "print(\"\\nMetoda g2(x):\")\n",
    "x_g2 = iterative_method(g2, 2, 10)\n",
    "\n",
    "print(\"\\nMetoda g3(x):\")\n",
    "x_g3 = iterative_method(g3, 2, 10)\n",
    "\n",
    "print(\"\\nMetoda g4(x):\")\n",
    "x_g4 = iterative_method(g4, 2, 10)\n",
    "\n",
    "# Obliczenie błędów bezwzględnych\n",
    "epsilon_g1 = [absolute_error(g1(x)) for x in range(1, 11)]\n",
    "epsilon_g2 = [absolute_error(g2(x)) for x in range(1, 11)]\n",
    "epsilon_g3 = [absolute_error(g3(x)) for x in range(1, 11)]\n",
    "epsilon_g4 = [absolute_error(g4(x)) for x in range(1, 11)]\n",
    "\n",
    "# Obliczenie rzędu zbieżności\n",
    "order_g1 = [order_of_convergence(epsilon_g1[i], epsilon_g1[i-1]) for i in range(1, 10)]\n",
    "order_g2 = [order_of_convergence(epsilon_g2[i], epsilon_g2[i-1]) for i in range(1, 10)]\n",
    "order_g3 = [order_of_convergence(epsilon_g3[i], epsilon_g3[i-1]) for i in range(1, 10)]\n",
    "order_g4 = [order_of_convergence(epsilon_g4[i], epsilon_g4[i-1]) for i in range(1, 10)]\n",
    "\n",
    "print(\"\\nRząd zbieżności metody g1(x):\", order_g1)\n",
    "print(\"Rząd zbieżności metody g2(x):\", order_g2)\n",
    "print(\"Rząd zbieżności metody g3(x):\", order_g3)\n",
    "print(\"Rząd zbieżności metody g4(x):\", order_g4)"
   ]
  },
  {
   "cell_type": "code",
   "execution_count": 94,
   "id": "275af008-efeb-499d-8554-3962fc615b33",
   "metadata": {},
   "outputs": [],
   "source": [
    "def relative_error(approximation):\n",
    "    return abs(approximation - exact_solution) / abs(exact_solution)"
   ]
  },
  {
   "cell_type": "code",
   "execution_count": 95,
   "id": "dcadd801-1b53-4b27-b5a6-18c59485fe52",
   "metadata": {},
   "outputs": [],
   "source": [
    "def iterate(g, x0, iterations):\n",
    "    x = x0\n",
    "    errors = []\n",
    "    for i in range(iterations):\n",
    "        x = g(x)\n",
    "        errors.append(relative_error(x))\n",
    "    return errors"
   ]
  },
  {
   "cell_type": "code",
   "execution_count": 97,
   "id": "d863998f-dd29-457b-acc9-d8380c274695",
   "metadata": {
    "scrolled": true
   },
   "outputs": [
    {
     "name": "stderr",
     "output_type": "stream",
     "text": [
      "/tmp/ipykernel_1814/947680107.py:16: UserWarning: Data has no positive values, and therefore cannot be log-scaled.\n",
      "  plt.yscale('log')\n"
     ]
    },
    {
     "data": {
      "image/png": "[encoded data removed]",
      "text/plain": [
       "<Figure size 1000x600 with 1 Axes>"
      ]
     },
     "metadata": {},
     "output_type": "display_data"
    },
    {
     "name": "stderr",
     "output_type": "stream",
     "text": [
      "/tmp/ipykernel_1814/947680107.py:28: UserWarning: Data has no positive values, and therefore cannot be log-scaled.\n",
      "  plt.yscale('log')\n"
     ]
    },
    {
     "data": {
      "image/png": "[encoded data removed]",
      "text/plain": [
       "<Figure size 1000x600 with 1 Axes>"
      ]
     },
     "metadata": {},
     "output_type": "display_data"
    }
   ],
   "source": [
    "iterations = 10\n",
    "exact_solution = 2\n",
    "\n",
    "# Przeprowadzenie iteracji dla każdej funkcji g_i(x)\n",
    "errors_g1 = iterate(g1, 2, iterations)\n",
    "errors_g2 = iterate(g2, 2, iterations)\n",
    "errors_g3 = iterate(g3, 2, iterations)\n",
    "errors_g4 = iterate(g4, 2, iterations)\n",
    "\n",
    "# Wykres dla wszystkich metod\n",
    "plt.figure(figsize=(10, 6))\n",
    "plt.plot(range(1, iterations + 1), errors_g1, label='Metoda g1(x)')\n",
    "plt.plot(range(1, iterations + 1), errors_g2, label='Metoda g2(x)')\n",
    "plt.plot(range(1, iterations + 1), errors_g3, label='Metoda g3(x)')\n",
    "plt.plot(range(1, iterations + 1), errors_g4, label='Metoda g4(x)')\n",
    "plt.yscale('log')\n",
    "plt.xlabel('Numer iteracji')\n",
    "plt.ylabel('Błąd względny')\n",
    "plt.title('Błąd względny w zależności od numeru iteracji (wszystkie metody)')\n",
    "plt.legend()\n",
    "plt.grid(True)\n",
    "plt.show()\n",
    "\n",
    "# Wykres dla metod zbieżnych\n",
    "plt.figure(figsize=(10, 6))\n",
    "#plt.plot(range(1, iterations + 1), errors_g3, label='Metoda g3(x)')\n",
    "#plt.plot(range(1, iterations + 1), errors_g4, label='Metoda g4(x)')\n",
    "plt.yscale('log')\n",
    "plt.xlabel('Numer iteracji')\n",
    "plt.ylabel('Błąd względny')\n",
    "plt.title('Błąd względny w zależności od numeru iteracji (metody zbieżne)')\n",
    "plt.legend()\n",
    "plt.grid(True)\n",
    "plt.show()"
   ]
  },
  {
   "cell_type": "markdown",
   "id": "256d12d6-6248-48e7-9de5-daf595face3b",
   "metadata": {},
   "source": [
    "Zadanie 3"
   ]
  },
  {
   "cell_type": "code",
   "execution_count": 99,
   "id": "752103ae-c16e-446d-bcc3-f394ed5adf28",
   "metadata": {},
   "outputs": [
    {
     "name": "stdout",
     "output_type": "stream",
     "text": [
      "Rozwiązanie dla równania (a): 2.0945514815423265\n"
     ]
    }
   ],
   "source": [
    "def funkcja_a(x):\n",
    "    return x**3 - 2*x - 5\n",
    "\n",
    "def pochodna_funkcji_a(x):\n",
    "    return 3*x**2 - 2\n",
    "\n",
    "def metoda_newtona_a(poczatkowe_przyblizenie, tolerancja, maksymalna_liczba_iteracji):\n",
    "    x0 = poczatkowe_przyblizenie\n",
    "    iteracja = 0\n",
    "    \n",
    "    while iteracja < maksymalna_liczba_iteracji:\n",
    "        x1 = x0 - funkcja_a(x0) / pochodna_funkcji_a(x0)\n",
    "        if abs(x1 - x0) < tolerancja:\n",
    "            return x1\n",
    "        x0 = x1\n",
    "        iteracja += 1\n",
    "    \n",
    "    return \"Nie udało się znaleźć rozwiązania w określonej liczbie iteracji.\"\n",
    "\n",
    "# Przykładowe użycie\n",
    "poczatkowe_przyblizenie = 1.0\n",
    "tolerancja = 1e-6\n",
    "maksymalna_liczba_iteracji = 100\n",
    "\n",
    "wynik_a = metoda_newtona_a(poczatkowe_przyblizenie, tolerancja, maksymalna_liczba_iteracji)\n",
    "print(\"Rozwiązanie dla równania (a):\", wynik_a)\n"
   ]
  },
  {
   "cell_type": "code",
   "execution_count": 100,
   "id": "c85252c3-0a2c-4693-9e55-4c5d8f444acf",
   "metadata": {},
   "outputs": [
    {
     "name": "stdout",
     "output_type": "stream",
     "text": [
      "Rozwiązanie dla równania (b): 0.5671432904097838\n"
     ]
    }
   ],
   "source": [
    "import math\n",
    "\n",
    "def funkcja_b(x):\n",
    "    return math.exp(-x) - x\n",
    "\n",
    "def pochodna_funkcji_b(x):\n",
    "    return -math.exp(-x) - 1\n",
    "\n",
    "def metoda_newtona_b(poczatkowe_przyblizenie, tolerancja, maksymalna_liczba_iteracji):\n",
    "    x0 = poczatkowe_przyblizenie\n",
    "    iteracja = 0\n",
    "    \n",
    "    while iteracja < maksymalna_liczba_iteracji:\n",
    "        x1 = x0 - funkcja_b(x0) / pochodna_funkcji_b(x0)\n",
    "        if abs(x1 - x0) < tolerancja:\n",
    "            return x1\n",
    "        x0 = x1\n",
    "        iteracja += 1\n",
    "    \n",
    "    return \"Nie udało się znaleźć rozwiązania w określonej liczbie iteracji.\"\n",
    "\n",
    "# Przykładowe użycie\n",
    "poczatkowe_przyblizenie = 1.0\n",
    "tolerancja = 1e-6\n",
    "maksymalna_liczba_iteracji = 100\n",
    "\n",
    "wynik_b = metoda_newtona_b(poczatkowe_przyblizenie, tolerancja, maksymalna_liczba_iteracji)\n",
    "print(\"Rozwiązanie dla równania (b):\", wynik_b)\n"
   ]
  },
  {
   "cell_type": "code",
   "execution_count": 101,
   "id": "5ffebf28-1e47-4921-828c-e7f66a42b38b",
   "metadata": {},
   "outputs": [
    {
     "name": "stdout",
     "output_type": "stream",
     "text": [
      "Rozwiązanie dla równania (c): 1.11415714087193\n"
     ]
    }
   ],
   "source": [
    "import math\n",
    "\n",
    "def funkcja_c(x):\n",
    "    return x * math.sin(x) - 1\n",
    "\n",
    "def pochodna_funkcji_c(x):\n",
    "    return math.sin(x) + x * math.cos(x)\n",
    "\n",
    "def metoda_newtona_c(poczatkowe_przyblizenie, tolerancja, maksymalna_liczba_iteracji):\n",
    "    x0 = poczatkowe_przyblizenie\n",
    "    iteracja = 0\n",
    "    \n",
    "    while iteracja < maksymalna_liczba_iteracji:\n",
    "        x1 = x0 - funkcja_c(x0) / pochodna_funkcji_c(x0)\n",
    "        if abs(x1 - x0) < tolerancja:\n",
    "            return x1\n",
    "        x0 = x1\n",
    "        iteracja += 1\n",
    "    \n",
    "    return \"Nie udało się znaleźć rozwiązania w określonej liczbie iteracji.\"\n",
    "\n",
    "# Przykładowe użycie\n",
    "poczatkowe_przyblizenie = 1.0\n",
    "tolerancja = 1e-6\n",
    "maksymalna_liczba_iteracji = 100\n",
    "\n",
    "wynik_c = metoda_newtona_c(poczatkowe_przyblizenie, tolerancja, maksymalna_liczba_iteracji)\n",
    "print(\"Rozwiązanie dla równania (c):\", wynik_c)\n"
   ]
  },
  {
   "cell_type": "code",
   "execution_count": 103,
   "id": "ddf3aadc-ac2f-4b01-b479-309562453762",
   "metadata": {},
   "outputs": [
    {
     "name": "stdout",
     "output_type": "stream",
     "text": [
      "Liczba iteracji dla 24-bitowej dokładności dla równania (a): 13\n",
      "Liczba iteracji dla 53-bitowej dokładności dla równania (a): 27\n"
     ]
    }
   ],
   "source": [
    "import math\n",
    "\n",
    "def liczba_iteracji_dokladnosc(dokladnosc_bitowa, dokladnosc_dziesietna_cel):\n",
    "    dokladnosc_dziesietna = -math.log10(dokladnosc_bitowa)\n",
    "    bled_bezwzgledny_cel = 1 / 2**(dokladnosc_dziesietna_cel + 1)\n",
    "    \n",
    "    iteracje = math.ceil(math.log2(1 / bled_bezwzgledny_cel) / 2)\n",
    "    \n",
    "    return iteracje\n",
    "\n",
    "\n",
    "print(\"Liczba iteracji dla 24-bitowej dokładności dla równania (a):\", liczba_iteracji_dokladnosc(2**-24, 24))\n",
    "print(\"Liczba iteracji dla 53-bitowej dokładności dla równania (a):\", liczba_iteracji_dokladnosc(2**-53, 53))\n"
   ]
  },
  {
   "cell_type": "markdown",
   "id": "606f92d0-b3e6-4429-9fe6-f466c6d2dae0",
   "metadata": {},
   "source": [
    "Zadanie 4"
   ]
  },
  {
   "cell_type": "code",
   "execution_count": 105,
   "id": "9208dbb7-5cef-4fbb-b010-39e75f7f36ee",
   "metadata": {},
   "outputs": [],
   "source": [
    "def f(x):\n",
    "    return np.array([x[0]**2 + x[1]**2 - 1, x[0]**2 - x[1]])"
   ]
  },
  {
   "cell_type": "code",
   "execution_count": 106,
   "id": "868fa24e-e20e-4330-b543-6955d0eff217",
   "metadata": {},
   "outputs": [],
   "source": [
    "def jac(x):\n",
    "    return np.array([[2*x[0], 2*x[1]], [2*x[0], -1]])"
   ]
  },
  {
   "cell_type": "code",
   "execution_count": 107,
   "id": "7a0c1795-b157-49e9-b120-d090116a2458",
   "metadata": {},
   "outputs": [],
   "source": [
    "def newton_method(F, J, x0, tol=1e-6, max_iter=100):\n",
    "    x = x0\n",
    "    for i in range(max_iter):\n",
    "        delta_x = np.linalg.solve(J(x), -F(x))\n",
    "        x = x + delta_x\n",
    "        if np.linalg.norm(delta_x) < tol:\n",
    "            break\n",
    "    return x"
   ]
  },
  {
   "cell_type": "code",
   "execution_count": 111,
   "id": "1c8b868e-3d90-4fa8-89d8-cbb5e9e11b91",
   "metadata": {},
   "outputs": [
    {
     "name": "stdout",
     "output_type": "stream",
     "text": [
      "Dokładne rozwiązanie: [1.63190654 1.63190654]\n",
      "Rozwiązanie metodą Newtona: [0.78615138 0.61803399]\n",
      "Błąd względny: 0.5720951015845321\n"
     ]
    }
   ],
   "source": [
    "a = np.sqrt(5)/2\n",
    "b = np.sqrt(5)/2\n",
    "\n",
    "exact_solution = np.array([np.sqrt(np.abs(a**2 - 1/2*7*a)), np.sqrt(np.abs(b**2 - 1/2*7*b))])\n",
    "\n",
    "initial_guess = np.array([0.5, 0.5])\n",
    "solution_newton = newton_method(f, jac, initial_guess)\n",
    "\n",
    "# Obliczenie błędu względnego\n",
    "relative_error = np.linalg.norm(solution_newton - exact_solution) / np.linalg.norm(exact_solution)\n",
    "\n",
    "print(\"Dokładne rozwiązanie:\", exact_solution)\n",
    "print(\"Rozwiązanie metodą Newtona:\", solution_newton)\n",
    "print(\"Błąd względny:\", relative_error)"
   ]
  },
  {
   "cell_type": "code",
   "execution_count": null,
   "id": "afd5f2a9-c2c9-4895-9ac7-203c5bdf0a8a",
   "metadata": {},
   "outputs": [],
   "source": []
  },
  {
   "cell_type": "code",
   "execution_count": null,
   "id": "577c35b9-3587-44ab-813a-6157a9834b36",
   "metadata": {},
   "outputs": [],
   "source": []
  },
  {
   "cell_type": "code",
   "execution_count": null,
   "id": "80d2fb0e-5280-4d4e-9d5f-8e5356497104",
   "metadata": {},
   "outputs": [],
   "source": []
  }
 ],
 "metadata": {
  "kernelspec": {
   "display_name": "Python 3 (ipykernel)",
   "language": "python",
   "name": "python3"
  },
  "language_info": {
   "codemirror_mode": {
    "name": "ipython",
    "version": 3
   },
   "file_extension": ".py",
   "mimetype": "text/x-python",
   "name": "python",
   "nbconvert_exporter": "python",
   "pygments_lexer": "ipython3",
   "version": "3.9.18"
  }
 },
 "nbformat": 4,
 "nbformat_minor": 5
}
