{
 "cells": [
  {
   "cell_type": "markdown",
   "id": "5c694942-79ce-40cc-865e-3f523f30a5b2",
   "metadata": {},
   "source": [
    "Metoda Najmniejszych Kwadratów"
   ]
  },
  {
   "cell_type": "markdown",
   "id": "281d09b0-7130-4256-a009-38d3b70c63c2",
   "metadata": {},
   "source": [
    "Zadanie 1:\n",
    "Celem zadania jest zastosowanie metody najmniejszych kwadratów do pre-dykcji, czy nowotwór jest złośliwy (ang.malignant) czy łagodny (ang.benign). Nowotwory złośliwe i łagodne mają różne charakterystyki wzrostu. Istotne ce-chy to m. in. promień i tekstura. Charakterystyki te wyznaczane są poprzezdiagnostykę obrazową i biopsje. Do rozwiązania problemu wykorzystamy bibliotekę pandas, typDataFrame oraz dwa zbiory danych:\n",
    "–breast-cancer-train.dat  –breast-cancer-validate.dat. Nazwy kolumn znajdują się w pliku breast-cancer.labels. Pierwsza ko-lumna to identyfikator pacjentapatient ID. Dla każdego pacjenta wartość wkolumnieMalignant/Benignwskazuje klasę, tj. czy jego nowotwór jest złośliwyczy łagodny. Pozostałe 30 kolumn zawiera cechy, tj. charakterystyki nowotworu."
   ]
  },
  {
   "cell_type": "markdown",
   "id": "3976a85c-544b-49eb-97c3-0d22d4806f8e",
   "metadata": {},
   "source": [
    "a):\n",
    "Otwórz zbiory breast-cancer-train.dat i breast-cancer-validate.dat używając funkcji pd.io.parsers.readcsv z biblioteki pandas."
   ]
  },
  {
   "cell_type": "markdown",
   "id": "0001e605-3005-4cb8-92ae-c3fb8e099c4b",
   "metadata": {},
   "source": [
    "b): Stwórz histogram i wykres wybranej kolumny danych przy pomocy funkcji historazplot. Pamiętaj o podpisaniu osi i wykresów."
   ]
  },
  {
   "cell_type": "markdown",
   "id": "8be8c143-9f6b-4996-8b73-c396a845ec01",
   "metadata": {},
   "source": [
    "c): Stwórz reprezentacje danych zawartych w obu zbiorach dla liniowej i kwa-dratowej metody najmniejszych kwadratów (łącznie 4 macierze). Dla repre-zentacji kwadratowej użyj tylko podzbioru dostępnych danych, tj. danych zkolumnradius (mean),perimeter (mean),area (mean),symmetry (mean)."
   ]
  },
  {
   "cell_type": "markdown",
   "id": "5c4acadb-3ef7-4514-a594-ae17678540b3",
   "metadata": {},
   "source": [
    "d): Stwórz wektorbdla obu zbiorów (tablicę numpy 1D-array o rozmiarze iden-tycznym jak rozmiar kolumnyMalignant/Benignodpowiedniego zbioru da-nych). Elementy wektorabto 1 jeśli nowotwór jest złośliwy, -1 w przeciwnymwypadku. Funkcjanp.whereumożliwi zwięzłe zakodowanie wektorab."
   ]
  },
  {
   "cell_type": "markdown",
   "id": "1fcf1056-fe2e-4a2e-8f6c-f2e33a885217",
   "metadata": {},
   "source": [
    "e): Znajdź wagi dla liniowej oraz kwadratowej reprezentacji najmniejszych kwa-dratów przy pomocy macierzyAzbudowanych na podstawie zbiorubreast-cancer-train.dat.  Potrzebny  będzie  także  wektorbzbudowanyna podstawie zbiorubreast-cancer-train.dat.Uwaga. Problem najmniejszych kwadratów należy rozwiązać stosując rów-nanie  normalne  (tj.  nie  używając  funkcjiscipy.linalg.lstsq).  Rozwią-zując  równanie  normalne  należy  użyć  funkcjisolve,  unikając  obliczaniaodwrotności macierzy funkcjąscipy.linalg.pinv."
   ]
  },
  {
   "cell_type": "markdown",
   "id": "0cc77fd4-4d8d-4f05-b3b7-355a6e181f83",
   "metadata": {},
   "source": [
    "f): Oblicz współczynniki uwarunkowania macierzy,cond(ATA), dla liniowej ikwadratowej metody najmniejszych kwadratów."
   ]
  },
  {
   "cell_type": "markdown",
   "id": "010ade32-90c5-4882-8db3-8927f5bf5df6",
   "metadata": {},
   "source": [
    "g): Sprawdź  jak  dobrze  otrzymane  wagi  przewidują  typ  nowotworu  (łagodnyczy złośliwy). W tym celu pomnóż liniową reprezentację zbiorubreast-cancer-validate.datoraz wyliczony wektor wag dla reprezentacjiliniowej. Następnie powtórz odpowiednie mnożenie dla reprezentacji kwa-dratowej. Zarówno dla reprezentacji liniowej jak i kwadratowej otrzymamywektorp. Zakładamy, że jeślip[i]>0, toi-ta osoba (prawdopodobnie) manowotwór złośliwy. Jeślip[i]≤0toi-ta osoba (prawdopodobnie) ma nowo-twór łagodny.Porównaj wektorypdla reprezentacji liniowej i kwadratowej z wektoremb(użyj regułp[i]>0orazp[i]≤0).Oblicz liczbę fałszywie dodatnich (ang.false-positives) oraz fałszywie ujem-nych  (ang.false-negatives)  przypadków  dla  obu  reprezentacji.  Przypadekfałszywie dodatni zachodzi, kiedy model przewiduje nowotwór złośliwy, gdyw  rzeczywistości  nowotwór  był  łagodny.  Przypadek  fałszywie  ujemny  za-chodzi,  kiedy  model  przewiduje  nowotwór  łagodny,  gdy  w  rzeczywistościnowotwór był złośliwy."
   ]
  },
  {
   "cell_type": "markdown",
   "id": "5d8b6ebf-f1b6-4d9b-80c3-481639a698b8",
   "metadata": {},
   "source": [
    "CODE"
   ]
  },
  {
   "cell_type": "code",
   "execution_count": 3,
   "id": "f3758038-dd3d-46b7-b80c-141ff5a21857",
   "metadata": {},
   "outputs": [],
   "source": [
    "import numpy as np\n",
    "import pandas as pd\n",
    "import matplotlib.pyplot as plt"
   ]
  },
  {
   "cell_type": "code",
   "execution_count": 4,
   "id": "f8f4ed0e-a3da-40ae-a54c-f937300f5d8f",
   "metadata": {},
   "outputs": [],
   "source": [
    "# (a)\n",
    "bc_labels = pd.io.parsers.read_csv('dataset/breast-cancer.labels')\n",
    "bc_train = pd.io.parsers.read_csv('dataset/breast-cancer-train.dat', header=None)\n",
    "bc_validate = pd.io.parsers.read_csv('dataset/breast-cancer-validate.dat', header=None)"
   ]
  },
  {
   "cell_type": "code",
   "execution_count": 5,
   "id": "0e20da0a-296d-4874-90eb-d65b0a5fd342",
   "metadata": {},
   "outputs": [
    {
     "name": "stdout",
     "output_type": "stream",
     "text": [
      "(300, 32)\n"
     ]
    }
   ],
   "source": [
    "print(bc_train.shape)"
   ]
  },
  {
   "cell_type": "code",
   "execution_count": 6,
   "id": "de936ff3-394d-43fb-af96-a60f30d02721",
   "metadata": {},
   "outputs": [
    {
     "name": "stdout",
     "output_type": "stream",
     "text": [
      "                    patient ID\n",
      "0             Malignant/Benign\n",
      "1                radius (mean)\n",
      "2               texture (mean)\n",
      "3             perimeter (mean)\n",
      "4                  area (mean)\n",
      "5            smoothness (mean)\n",
      "6           compactness (mean)\n",
      "7             concavity (mean)\n",
      "8        concave points (mean)\n",
      "9              symmetry (mean)\n",
      "10    fractal dimension (mean)\n",
      "11             radius (stderr)\n",
      "12            texture (stderr)\n",
      "13          perimeter (stderr)\n",
      "14               area (stderr)\n",
      "15         smoothness (stderr)\n",
      "16        compactness (stderr)\n",
      "17          concavity (stderr)\n",
      "18     concave points (stderr)\n",
      "19           symmetry (stderr)\n",
      "20  fractal dimension (stderr)\n",
      "21              radius (worst)\n",
      "22             texture (worst)\n",
      "23           perimeter (worst)\n",
      "24                area (worst)\n",
      "25          smoothness (worst)\n",
      "26         compactness (worst)\n",
      "27           concavity (worst)\n",
      "28      concave points (worst)\n",
      "29            symmetry (worst)\n",
      "30   fractal dimension (worst)\n",
      "           0  1      2      3       4       5        6        7        8   \\\n",
      "0      842302  M  17.99  10.38  122.80  1001.0  0.11840  0.27760  0.30010   \n",
      "1      842517  M  20.57  17.77  132.90  1326.0  0.08474  0.07864  0.08690   \n",
      "2    84300903  M  19.69  21.25  130.00  1203.0  0.10960  0.15990  0.19740   \n",
      "3    84348301  M  11.42  20.38   77.58   386.1  0.14250  0.28390  0.24140   \n",
      "4    84358402  M  20.29  14.34  135.10  1297.0  0.10030  0.13280  0.19800   \n",
      "..        ... ..    ...    ...     ...     ...      ...      ...      ...   \n",
      "295    891923  B  13.77  13.27   88.06   582.7  0.09198  0.06221  0.01063   \n",
      "296    891936  B  10.91  12.35   69.14   363.7  0.08518  0.04721  0.01236   \n",
      "297    892189  M  11.76  18.14   75.00   431.1  0.09968  0.05914  0.02685   \n",
      "298    892214  B  14.26  18.17   91.22   633.1  0.06576  0.05220  0.02475   \n",
      "299    892399  B  10.51  23.09   66.85   334.2  0.10150  0.06797  0.02495   \n",
      "\n",
      "          9   ...     22     23      24      25       26       27       28  \\\n",
      "0    0.14710  ...  25.38  17.33  184.60  2019.0  0.16220  0.66560  0.71190   \n",
      "1    0.07017  ...  24.99  23.41  158.80  1956.0  0.12380  0.18660  0.24160   \n",
      "2    0.12790  ...  23.57  25.53  152.50  1709.0  0.14440  0.42450  0.45040   \n",
      "3    0.10520  ...  14.91  26.50   98.87   567.7  0.20980  0.86630  0.68690   \n",
      "4    0.10430  ...  22.54  16.67  152.20  1575.0  0.13740  0.20500  0.40000   \n",
      "..       ...  ...    ...    ...     ...     ...      ...      ...      ...   \n",
      "295  0.01917  ...  14.67  16.93   94.17   661.1  0.11700  0.10720  0.03732   \n",
      "296  0.01369  ...  11.37  14.82   72.42   392.2  0.09312  0.07506  0.02884   \n",
      "297  0.03515  ...  13.36  23.39   85.10   553.6  0.11370  0.07974  0.06120   \n",
      "298  0.01374  ...  16.22  25.26  105.80   819.7  0.09445  0.21670  0.15650   \n",
      "299  0.01875  ...  10.93  24.22   70.10   362.7  0.11430  0.08614  0.04158   \n",
      "\n",
      "          29      30       31  \n",
      "0    0.26540  0.4601  0.11890  \n",
      "1    0.18600  0.2750  0.08902  \n",
      "2    0.24300  0.3613  0.08758  \n",
      "3    0.25750  0.6638  0.17300  \n",
      "4    0.16250  0.2364  0.07678  \n",
      "..       ...     ...      ...  \n",
      "295  0.05802  0.2823  0.06794  \n",
      "296  0.03194  0.2143  0.06643  \n",
      "297  0.07160  0.1978  0.06915  \n",
      "298  0.07530  0.2636  0.07676  \n",
      "299  0.03125  0.2227  0.06777  \n",
      "\n",
      "[300 rows x 32 columns]\n",
      "===============================================================\n",
      "           0  1       2      3       4       5        6        7         8   \\\n",
      "0      892438  M  19.530  18.90  129.50  1217.0  0.11500  0.16420  0.219700   \n",
      "1      892604  B  12.460  19.89   80.43   471.3  0.08451  0.10140  0.068300   \n",
      "2    89263202  M  20.090  23.86  134.70  1247.0  0.10800  0.18380  0.228300   \n",
      "3      892657  B  10.490  18.61   66.86   334.3  0.10680  0.06678  0.022970   \n",
      "4       89296  B  11.460  18.16   73.59   403.1  0.08853  0.07694  0.033440   \n",
      "..        ... ..     ...    ...     ...     ...      ...      ...       ...   \n",
      "255    924934  B  10.290  27.61   65.67   321.4  0.09030  0.07658  0.059990   \n",
      "256    924964  B  10.160  19.59   64.73   311.7  0.10030  0.07504  0.005025   \n",
      "257    925236  B   9.423  27.88   59.26   271.3  0.08123  0.04971  0.000000   \n",
      "258    925277  B  14.590  22.68   96.39   657.1  0.08473  0.13300  0.102900   \n",
      "259    925291  B  11.510  23.93   74.52   403.5  0.09261  0.10210  0.111200   \n",
      "\n",
      "          9   ...     22     23      24      25      26       27       28  \\\n",
      "0    0.10620  ...  25.93  26.24  171.10  2053.0  0.1495  0.41160  0.61210   \n",
      "1    0.03099  ...  13.46  23.07   88.13   551.3  0.1050  0.21580  0.19040   \n",
      "2    0.12800  ...  23.68  29.43  158.80  1696.0  0.1347  0.33910  0.49320   \n",
      "3    0.01780  ...  11.06  24.54   70.76   375.4  0.1413  0.10440  0.08423   \n",
      "4    0.01502  ...  12.68  21.61   82.69   489.8  0.1144  0.17890  0.12260   \n",
      "..       ...  ...    ...    ...     ...     ...     ...      ...      ...   \n",
      "255  0.02738  ...  10.84  34.91   69.57   357.6  0.1384  0.17100  0.20000   \n",
      "256  0.01116  ...  10.65  22.88   67.88   347.3  0.1265  0.12000  0.01005   \n",
      "257  0.00000  ...  10.49  34.24   66.50   330.6  0.1073  0.07158  0.00000   \n",
      "258  0.03736  ...  15.48  27.27  105.90   733.5  0.1026  0.31710  0.36620   \n",
      "259  0.04105  ...  12.48  37.16   82.28   474.2  0.1298  0.25170  0.36300   \n",
      "\n",
      "          29      30       31  \n",
      "0    0.19800  0.2968  0.09929  \n",
      "1    0.07625  0.2685  0.07764  \n",
      "2    0.19230  0.3294  0.09469  \n",
      "3    0.06528  0.2213  0.07842  \n",
      "4    0.05509  0.2208  0.07638  \n",
      "..       ...     ...      ...  \n",
      "255  0.09127  0.2226  0.08283  \n",
      "256  0.02232  0.2262  0.06742  \n",
      "257  0.00000  0.2475  0.06969  \n",
      "258  0.11050  0.2258  0.08004  \n",
      "259  0.09653  0.2112  0.08732  \n",
      "\n",
      "[260 rows x 32 columns]\n"
     ]
    }
   ],
   "source": [
    "print(bc_labels)\n",
    "print(bc_train)\n",
    "print('===============================================================')\n",
    "print(bc_validate)"
   ]
  },
  {
   "cell_type": "code",
   "execution_count": 7,
   "id": "d9862cc0-89e9-4a25-835d-8104b4170013",
   "metadata": {},
   "outputs": [],
   "source": [
    "def find_col_ind(data_frame, name):\n",
    "    for i in range(data_frame.shape[0]):\n",
    "        if name == data_frame.iloc[i,0]: return i+1\n",
    "    return \"ERROR - name not found\""
   ]
  },
  {
   "cell_type": "code",
   "execution_count": 29,
   "id": "903479fd-dc8a-4122-ab15-c4f7b8d50098",
   "metadata": {},
   "outputs": [],
   "source": [
    "def visualize_a():\n",
    "    radius_m_col = bc_train.iloc[:, 2]\n",
    "    plt.figure()\n",
    "    plt.title(\"Radius (mean) - Histogram\")\n",
    "    plt.xlabel(\"Radius\")\n",
    "    plt.ylabel(\"Frequency\")\n",
    "    hist = radius_m_col.hist()\n",
    "\n",
    "    \n",
    "    value_counts = radius_m_col.value_counts()\n",
    "\n",
    "    plt.figure(figsize=(10, 6))\n",
    "    plt.title(\"Frequency of Mean Radius Values\")\n",
    "    plt.xlabel(\"Mean Radius\")\n",
    "    plt.ylabel(\"Frequency\")\n",
    "    plt.plot(value_counts.index, value_counts.values)\n",
    "    plt.xticks(rotation=45)\n",
    "    plt.show()"
   ]
  },
  {
   "cell_type": "code",
   "execution_count": 30,
   "id": "e4cfaa2b-1330-43eb-b3b7-d2609e44d753",
   "metadata": {},
   "outputs": [
    {
     "data": {
      "image/png": "[encoded data removed]",
      "text/plain": [
       "<Figure size 640x480 with 1 Axes>"
      ]
     },
     "metadata": {},
     "output_type": "display_data"
    },
    {
     "data": {
      "image/png": "[encoded data removed]",
      "text/plain": [
       "<Figure size 1000x600 with 1 Axes>"
      ]
     },
     "metadata": {},
     "output_type": "display_data"
    }
   ],
   "source": [
    "visualize_a()"
   ]
  },
  {
   "cell_type": "code",
   "execution_count": 10,
   "id": "e08f25c9-263f-4153-8f82-20bcd177081d",
   "metadata": {},
   "outputs": [],
   "source": [
    "def create_linear_matrix(data_frame):\n",
    "    rows, cols = data_frame.shape\n",
    "    target = [[None for __ in range(cols-2)] for _ in range(rows)]\n",
    "    for i in range(rows):\n",
    "        for j in range(cols-2):\n",
    "            target[i][j] = data_frame.iloc[i, j+2]\n",
    "\n",
    "    return np.array(target)"
   ]
  },
  {
   "cell_type": "code",
   "execution_count": 11,
   "id": "7cfc95e5-15b5-41d0-9c69-c5c82355f28d",
   "metadata": {},
   "outputs": [],
   "source": [
    "#print(len(create_linear_matrix(bc_train)))\n",
    "#print(len(create_linear_matrix(bc_train)[1]))"
   ]
  },
  {
   "cell_type": "code",
   "execution_count": 12,
   "id": "7b7808d6-661a-4dd5-9b69-d4b0a9c845b7",
   "metadata": {},
   "outputs": [],
   "source": [
    "def create_quadratic_matrix(data_frame, data_frame_labels, columns_number, columnsT):\n",
    "    columns = []\n",
    "    for name in columnsT:\n",
    "        columns.append(find_col_ind(data_frame_labels, name))\n",
    "\n",
    "    cols = columns_number\n",
    "    for i in range(columns_number):\n",
    "        cols += i+1\n",
    "        \n",
    "    rows = data_frame.shape[0]\n",
    "    target = [[None for __ in range(cols)] for _ in range(rows)]\n",
    "\n",
    "    for i in range(rows):\n",
    "        for j in range(columns_number):\n",
    "            target[i][j] = data_frame.iloc[i, columns[j]]\n",
    "            target[i][j+columns_number] = data_frame.iloc[i, columns[j]] ** 2\n",
    "\n",
    "        s = 2*columns_number\n",
    "        t = 3*columns_number\n",
    "        id = s\n",
    "        for k in range(s, t):\n",
    "            for l in range(k + 1, t):\n",
    "                target[i][id] = data_frame.iloc[i, columns[k-s]] * data_frame.iloc[i, columns[l-s]]\n",
    "                id += 1\n",
    "\n",
    "    \n",
    "    return np.array(target)\n",
    "            "
   ]
  },
  {
   "cell_type": "code",
   "execution_count": 13,
   "id": "aec6c551-1f84-4ccf-8e28-eeabab99e962",
   "metadata": {},
   "outputs": [],
   "source": [
    "def create_b_vector(data_frame):\n",
    "    b = np.where(data_frame.iloc[:, 1] == 'M', 1, -1)\n",
    "    return b"
   ]
  },
  {
   "cell_type": "markdown",
   "id": "6e5444d7-3a72-47d0-9c5e-354f6ee0503b",
   "metadata": {},
   "source": [
    "Generacja danych:"
   ]
  },
  {
   "cell_type": "code",
   "execution_count": 14,
   "id": "2a078b6b-83e1-4258-8f44-e7e113ff9f3f",
   "metadata": {
    "scrolled": true
   },
   "outputs": [],
   "source": [
    "# tabela z wybranymi kolumnami\n",
    "columnsT = [\"radius (mean)\", \"perimeter (mean)\", \"area (mean)\", \"symmetry (mean)\"]\n",
    "\n",
    "# liniowa reprezentacja breast-cancer-train\n",
    "train_matrix_lin = create_linear_matrix(bc_train)\n",
    "\n",
    "\n",
    "# kwadratowa reprezentacja breast-cancer-train\n",
    "train_matrix_quad = create_quadratic_matrix(bc_train, bc_labels, len(columnsT), columnsT)\n",
    "\n",
    "# liniowa reprezentacja breast-cancer-validate\n",
    "validate_matrix_lin = create_linear_matrix(bc_validate)\n",
    "\n",
    "# kwadratowa reprezentacja breast-cancer-validate\n",
    "validate_matrix_quad = create_quadratic_matrix(bc_validate, bc_labels, len(columnsT), columnsT)\n",
    "\n",
    "# zbudowany vector b do breast-cancer-train\n",
    "b_train = create_b_vector(bc_train)\n",
    "\n",
    "# zbudowany vector b do breast-cancer-validate\n",
    "b_validate = create_b_vector(bc_validate)"
   ]
  },
  {
   "cell_type": "code",
   "execution_count": 15,
   "id": "74c80cce-ee36-4e22-9724-45542ac95eef",
   "metadata": {},
   "outputs": [
    {
     "name": "stdout",
     "output_type": "stream",
     "text": [
      "2\n",
      "4\n",
      "5\n",
      "10\n",
      "        2       4       5       10\n",
      "0    17.99  122.80  1001.0  0.2419\n",
      "1    20.57  132.90  1326.0  0.1812\n",
      "2    19.69  130.00  1203.0  0.2069\n",
      "3    11.42   77.58   386.1  0.2597\n",
      "4    20.29  135.10  1297.0  0.1809\n",
      "..     ...     ...     ...     ...\n",
      "295  13.77   88.06   582.7  0.1592\n",
      "296  10.91   69.14   363.7  0.1449\n",
      "297  11.76   75.00   431.1  0.1619\n",
      "298  14.26   91.22   633.1  0.1635\n",
      "299  10.51   66.85   334.2  0.1695\n",
      "\n",
      "[300 rows x 4 columns]\n",
      "[1.799000e+01 1.228000e+02 1.001000e+03 2.419000e-01 3.236401e+02\n",
      " 1.507984e+04 1.002001e+06 5.851561e-02 2.209172e+03 1.800799e+04\n",
      " 4.351781e+00 1.229228e+05 2.970532e+01 2.421419e+02]\n"
     ]
    }
   ],
   "source": [
    "# Pętla do testowania wyników reprezentacji kwadratowej\n",
    "for name in columnsT:\n",
    "    print(find_col_ind(bc_labels, name))\n",
    "print(bc_train.iloc[:, [2, 4, 5, 10]])\n",
    "print(train_matrix_quad[0])"
   ]
  },
  {
   "cell_type": "markdown",
   "id": "91a585da-8e73-479d-8af9-b63ecd875c96",
   "metadata": {},
   "source": [
    "Rozwiązania równań:"
   ]
  },
  {
   "cell_type": "code",
   "execution_count": 16,
   "id": "19eecae0-e394-4dbe-8d12-09db565c8007",
   "metadata": {},
   "outputs": [],
   "source": [
    "X = train_matrix_lin\n",
    "y = b_train\n",
    "\n",
    "XTX = np.dot(X.T, X)  # X^T * X\n",
    "XTy = np.dot(X.T, y)  # X^T * y\n",
    "\n",
    "w_lin = np.linalg.solve(XTX, XTy)\n",
    "\n",
    "\n",
    "Xq = train_matrix_quad\n",
    "yq = b_train\n",
    "\n",
    "XTXq = np.dot(Xq.T, Xq)  # X^T * X\n",
    "XTyq = np.dot(Xq.T, yq)  # X^T * y\n",
    "\n",
    "w_quad = np.linalg.solve(XTXq, XTyq)\n"
   ]
  },
  {
   "cell_type": "markdown",
   "id": "5e363089-565c-4f9f-9e2e-d16b2a0cc260",
   "metadata": {},
   "source": [
    "Współczynnik uwarunkowania cond(A^T A)"
   ]
  },
  {
   "cell_type": "code",
   "execution_count": 17,
   "id": "2dce22f0-8348-4d12-a8b4-bd0d227c5f30",
   "metadata": {},
   "outputs": [],
   "source": [
    "cond_A_lin = np.linalg.cond(XTX)\n",
    "cond_A_lin2 = (np.linalg.norm(XTX) * np.linalg.norm(np.linalg.inv(XTX)))\n",
    "\n",
    "cond_A_quad = np.linalg.cond(XTXq)\n",
    "cond_A_quad2 = (np.linalg.norm(XTXq) * np.linalg.norm(np.linalg.inv(XTXq)))"
   ]
  },
  {
   "cell_type": "code",
   "execution_count": 18,
   "id": "119f9fcd-0187-459f-ad12-7a36a09a79e0",
   "metadata": {},
   "outputs": [
    {
     "name": "stdout",
     "output_type": "stream",
     "text": [
      "1809248222560.7683\n",
      "2078175796646.9785\n",
      "\n",
      "\n",
      "9.056815200058921e+17\n",
      "9.25786422297504e+17\n"
     ]
    }
   ],
   "source": [
    "print(cond_A_lin)\n",
    "print(cond_A_lin2)\n",
    "print(\"\\n\")\n",
    "print(cond_A_quad)\n",
    "print(cond_A_quad2)"
   ]
  },
  {
   "cell_type": "code",
   "execution_count": 19,
   "id": "59ab6f2f-4336-43c6-b539-07074fe0c2b3",
   "metadata": {},
   "outputs": [],
   "source": [
    "p_lin = np.dot(validate_matrix_lin, w_lin)\n",
    "p_quad = np.dot(validate_matrix_quad, w_quad)"
   ]
  },
  {
   "cell_type": "markdown",
   "id": "b945c390-5d1c-4fdb-a99c-cbefd4ba38eb",
   "metadata": {},
   "source": [
    "Porównanie wyników"
   ]
  },
  {
   "cell_type": "code",
   "execution_count": 20,
   "id": "506d400b-e120-4153-8bfe-36c520f13178",
   "metadata": {},
   "outputs": [],
   "source": [
    "true_counter_lin = 0\n",
    "false_positive_counter_lin = 0\n",
    "false_negative_counter_lin = 0\n",
    "\n",
    "true_counter_quad = 0\n",
    "false_positive_counter_quad = 0\n",
    "false_negative_counter_quad = 0\n",
    "\n",
    "\n",
    "for i in range(len(b_validate)):\n",
    "    # Liniowa reprezentacja:\n",
    "    if (p_lin[i] <= 0 and b_validate[i] < 0) or (p_lin[i] > 0 and b_validate[i] > 0):\n",
    "        true_counter_lin += 1\n",
    "\n",
    "    if p_lin[i] <= 0 and b_validate[i] > 0:\n",
    "        false_negative_counter_lin += 1\n",
    "\n",
    "    if p_lin[i] > 0 and b_validate[i] < 0:\n",
    "        false_positive_counter_lin += 1\n",
    "\n",
    "\n",
    "    # Kwadratowa reprezentacja:\n",
    "    if (p_quad[i] <= 0 and b_validate[i] < 0) or (p_quad[i] > 0 and b_validate[i] > 0):\n",
    "        true_counter_quad += 1\n",
    "\n",
    "    if p_quad[i] <= 0 and b_validate[i] > 0:\n",
    "        false_negative_counter_quad += 1\n",
    "\n",
    "    if p_quad[i] > 0 and b_validate[i] < 0:\n",
    "        false_positive_counter_quad += 1"
   ]
  },
  {
   "cell_type": "code",
   "execution_count": 21,
   "id": "3c6d9c95-e7a7-4e57-8c08-39bd51cd59c7",
   "metadata": {},
   "outputs": [
    {
     "name": "stdout",
     "output_type": "stream",
     "text": [
      "Procent poprwanych liniowych przewidywań:  96.92307692307692 %\n",
      "Procent poprawnych kwadratowych przewidywań:  92.3076923076923 %\n",
      "Liczba fałszywie dodatnich dla liniowych:  6\n",
      "Liczba fałszywie ujemnych dla liniowych:  2\n",
      "Liczba fałszywie dodatnich dla kwadratowych:  15\n",
      "Liczba fałszywie ujemnych dla kwadratowych:  5\n"
     ]
    }
   ],
   "source": [
    "print(\"Procent poprwanych liniowych przewidywań: \", true_counter_lin/len(b_validate) * 100, \"%\")\n",
    "print(\"Procent poprawnych kwadratowych przewidywań: \", true_counter_quad/len(b_validate) * 100, \"%\")\n",
    "print(\"Liczba fałszywie dodatnich dla liniowych: \", false_positive_counter_lin)\n",
    "print(\"Liczba fałszywie ujemnych dla liniowych: \", false_negative_counter_lin)\n",
    "print(\"Liczba fałszywie dodatnich dla kwadratowych: \", false_positive_counter_quad)\n",
    "print(\"Liczba fałszywie ujemnych dla kwadratowych: \", false_negative_counter_quad)"
   ]
  },
  {
   "cell_type": "code",
   "execution_count": null,
   "id": "a8074b46-2957-40f5-95d6-681b85b7b162",
   "metadata": {},
   "outputs": [],
   "source": []
  }
 ],
 "metadata": {
  "kernelspec": {
   "display_name": "Python 3 (ipykernel)",
   "language": "python",
   "name": "python3"
  },
  "language_info": {
   "codemirror_mode": {
    "name": "ipython",
    "version": 3
   },
   "file_extension": ".py",
   "mimetype": "text/x-python",
   "name": "python",
   "nbconvert_exporter": "python",
   "pygments_lexer": "ipython3",
   "version": "3.9.18"
  }
 },
 "nbformat": 4,
 "nbformat_minor": 5
}
