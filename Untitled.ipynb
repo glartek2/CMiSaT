{
 "cells": [
  {
   "cell_type": "code",
   "execution_count": null,
   "id": "c9fed20b-81e8-47dc-b45f-1d329161cc50",
   "metadata": {},
   "outputs": [],
   "source": []
  },
  {
   "cell_type": "code",
   "execution_count": 36,
   "id": "c2575906-2106-4a45-a3cf-bfb837e932b9",
   "metadata": {},
   "outputs": [],
   "source": [
    "import numpy as np\n",
    "import torch\n",
    "import torch.nn as nn\n",
    "import torch.optim as optim\n",
    "import matplotlib as plt"
   ]
  },
  {
   "cell_type": "code",
   "execution_count": 12,
   "id": "87807388-2fac-4d80-bb1f-18080c26932f",
   "metadata": {},
   "outputs": [],
   "source": [
    "# Definicja warunku początkowego\n",
    "def initial_condition(x):\n",
    "    return np.zeros_like(x)"
   ]
  },
  {
   "cell_type": "code",
   "execution_count": 13,
   "id": "318ae30e-2792-4f54-90c6-319335742b7c",
   "metadata": {},
   "outputs": [],
   "source": [
    "# Definicja prawej strony równania różniczkowego\n",
    "def f(x):\n",
    "    return np.cos(omega * x)"
   ]
  },
  {
   "cell_type": "code",
   "execution_count": 14,
   "id": "163161fe-bf16-4da5-961c-6235a1c1bf2d",
   "metadata": {},
   "outputs": [],
   "source": [
    "# Definicja analitycznego rozwiązania dla porównania\n",
    "def true_solution(x):\n",
    "    return 1 / omega * np.sin(omega * x)"
   ]
  },
  {
   "cell_type": "code",
   "execution_count": 21,
   "id": "9806a7bc-9b40-418f-a1ed-6a2ce98d1007",
   "metadata": {},
   "outputs": [],
   "source": [
    "\n",
    "# Parametry równania\n",
    "omegas = [1.0, 15.0]\n",
    "\n",
    "# Dziedzina\n",
    "x_min, x_max = -2 * np.pi, 2 * np.pi"
   ]
  },
  {
   "cell_type": "code",
   "execution_count": 22,
   "id": "95b9c3fc-ae9f-497b-9b6d-d082cca05dce",
   "metadata": {},
   "outputs": [],
   "source": [
    "# Funkcja tworząca dane treningowe\n",
    "def generate_training_data(num_points):\n",
    "    x_train = np.linspace(x_min, x_max, num_points)[:, None]\n",
    "    u_train = initial_condition(x_train)\n",
    "    return x_train, u_train"
   ]
  },
  {
   "cell_type": "code",
   "execution_count": 23,
   "id": "5471103e-0bf8-4bb5-8797-65cd4e30ebe5",
   "metadata": {},
   "outputs": [],
   "source": [
    "# Funkcja tworząca dane testowe\n",
    "def generate_test_data(num_points):\n",
    "    x_test = np.linspace(x_min, x_max, num_points)[:, None]\n",
    "    return x_test"
   ]
  },
  {
   "cell_type": "code",
   "execution_count": 29,
   "id": "c26e7ab5-d9be-4d4b-80cf-83923e3c9546",
   "metadata": {},
   "outputs": [],
   "source": [
    "# Definicja modelu sieci neuronowej\n",
    "class PINN(nn.Module):\n",
    "    def __init__(self, num_hidden_layers, num_neurons):\n",
    "        super(PINN, self).__init__()\n",
    "        layers = [nn.Linear(1, num_neurons), nn.Tanh()]\n",
    "        for _ in range(num_hidden_layers - 1):\n",
    "            layers.extend([nn.Linear(num_neurons, num_neurons), nn.Tanh()])\n",
    "        layers.append(nn.Linear(num_neurons, 1))\n",
    "        self.net = nn.Sequential(*layers)\n",
    "\n",
    "    def forward(self, x):\n",
    "        return self.net(x)"
   ]
  },
  {
   "cell_type": "code",
   "execution_count": 30,
   "id": "fb0f62f9-17bb-4582-8a66-b412e0905877",
   "metadata": {},
   "outputs": [],
   "source": [
    "# Funkcja uczenia modelu\n",
    "def train_model(model, x_train, u_train):\n",
    "    criterion = nn.MSELoss()\n",
    "    optimizer = optim.Adam(model.parameters(), lr=0.001)\n",
    "    for epoch in range(50000):\n",
    "        inputs = torch.tensor(x_train, dtype=torch.float32)\n",
    "        labels = torch.tensor(u_train, dtype=torch.float32)\n",
    "        optimizer.zero_grad()\n",
    "        outputs = model(inputs)\n",
    "        loss = criterion(outputs, labels)\n",
    "        loss.backward()\n",
    "        optimizer.step()\n",
    "        if epoch % 1000 == 0:\n",
    "            print(f\"Epoch {epoch+1}, Loss: {loss.item()}\")"
   ]
  },
  {
   "cell_type": "code",
   "execution_count": 31,
   "id": "ce037a47-1df0-4c47-bbff-c9f64317d2d0",
   "metadata": {},
   "outputs": [],
   "source": [
    "# Funkcja testująca model\n",
    "def test_model(model, x_test):\n",
    "    inputs = torch.tensor(x_test, dtype=torch.float32)\n",
    "    u_pred = model(inputs).detach().numpy()\n",
    "    return u_pred"
   ]
  },
  {
   "cell_type": "code",
   "execution_count": 32,
   "id": "17d6b061-ff6d-4100-9f3c-3d6348860fed",
   "metadata": {},
   "outputs": [],
   "source": [
    "# Liczba punktów treningowych i testowych\n",
    "num_train_points_a = 200\n",
    "num_test_points_a = 1000\n",
    "num_train_points_b = 200 * 15\n",
    "num_test_points_b = 5000"
   ]
  },
  {
   "cell_type": "code",
   "execution_count": 33,
   "id": "66dbea9b-6395-4f90-bfcf-01814d85118f",
   "metadata": {},
   "outputs": [],
   "source": [
    "# Przypadki architektury sieci\n",
    "architectures = [\n",
    "    {\"num_hidden_layers\": 2, \"num_neurons\": 16},\n",
    "    {\"num_hidden_layers\": 4, \"num_neurons\": 64},\n",
    "    {\"num_hidden_layers\": 5, \"num_neurons\": 128},\n",
    "]"
   ]
  },
  {
   "cell_type": "code",
   "execution_count": 38,
   "id": "e86bc62c-98bd-4d9f-ad3f-41bed6a98cf3",
   "metadata": {},
   "outputs": [
    {
     "name": "stdout",
     "output_type": "stream",
     "text": [
      "\n",
      "Case for omega=1.0:\n",
      "\n",
      "Architecture: {'num_hidden_layers': 2, 'num_neurons': 16}\n",
      "Epoch 1, Loss: 0.1337609887123108\n",
      "Epoch 1001, Loss: 5.998383016958542e-07\n",
      "Epoch 2001, Loss: 2.3123749315345776e-07\n",
      "Epoch 3001, Loss: 9.34341528591176e-08\n",
      "Epoch 4001, Loss: 5.2060769917261496e-08\n",
      "Epoch 5001, Loss: 3.923733871147306e-08\n"
     ]
    },
    {
     "ename": "KeyboardInterrupt",
     "evalue": "",
     "output_type": "error",
     "traceback": [
      "\u001b[0;31m---------------------------------------------------------------------------\u001b[0m",
      "\u001b[0;31mKeyboardInterrupt\u001b[0m                         Traceback (most recent call last)",
      "Cell \u001b[0;32mIn[38], line 15\u001b[0m\n\u001b[1;32m     13\u001b[0m x_test \u001b[38;5;241m=\u001b[39m generate_test_data(num_test_points)\n\u001b[1;32m     14\u001b[0m model \u001b[38;5;241m=\u001b[39m PINN(architecture[\u001b[38;5;124m\"\u001b[39m\u001b[38;5;124mnum_hidden_layers\u001b[39m\u001b[38;5;124m\"\u001b[39m], architecture[\u001b[38;5;124m\"\u001b[39m\u001b[38;5;124mnum_neurons\u001b[39m\u001b[38;5;124m\"\u001b[39m])\n\u001b[0;32m---> 15\u001b[0m \u001b[43mtrain_model\u001b[49m\u001b[43m(\u001b[49m\u001b[43mmodel\u001b[49m\u001b[43m,\u001b[49m\u001b[43m \u001b[49m\u001b[43mx_train\u001b[49m\u001b[43m,\u001b[49m\u001b[43m \u001b[49m\u001b[43mu_train\u001b[49m\u001b[43m)\u001b[49m\n\u001b[1;32m     16\u001b[0m u_pred \u001b[38;5;241m=\u001b[39m test_model(model, x_test)\n\u001b[1;32m     17\u001b[0m u_true \u001b[38;5;241m=\u001b[39m true_solution(x_test)  \u001b[38;5;66;03m# Zakładając, że true_solution jest zdefiniowane\u001b[39;00m\n",
      "Cell \u001b[0;32mIn[30], line 8\u001b[0m, in \u001b[0;36mtrain_model\u001b[0;34m(model, x_train, u_train)\u001b[0m\n\u001b[1;32m      6\u001b[0m inputs \u001b[38;5;241m=\u001b[39m torch\u001b[38;5;241m.\u001b[39mtensor(x_train, dtype\u001b[38;5;241m=\u001b[39mtorch\u001b[38;5;241m.\u001b[39mfloat32)\n\u001b[1;32m      7\u001b[0m labels \u001b[38;5;241m=\u001b[39m torch\u001b[38;5;241m.\u001b[39mtensor(u_train, dtype\u001b[38;5;241m=\u001b[39mtorch\u001b[38;5;241m.\u001b[39mfloat32)\n\u001b[0;32m----> 8\u001b[0m \u001b[43moptimizer\u001b[49m\u001b[38;5;241;43m.\u001b[39;49m\u001b[43mzero_grad\u001b[49m\u001b[43m(\u001b[49m\u001b[43m)\u001b[49m\n\u001b[1;32m      9\u001b[0m outputs \u001b[38;5;241m=\u001b[39m model(inputs)\n\u001b[1;32m     10\u001b[0m loss \u001b[38;5;241m=\u001b[39m criterion(outputs, labels)\n",
      "File \u001b[0;32m~/anaconda3/envs/bit-alg/lib/python3.9/site-packages/torch/_compile.py:24\u001b[0m, in \u001b[0;36m_disable_dynamo.<locals>.inner\u001b[0;34m(*args, **kwargs)\u001b[0m\n\u001b[1;32m     20\u001b[0m \u001b[38;5;129m@functools\u001b[39m\u001b[38;5;241m.\u001b[39mwraps(fn)\n\u001b[1;32m     21\u001b[0m \u001b[38;5;28;01mdef\u001b[39;00m \u001b[38;5;21minner\u001b[39m(\u001b[38;5;241m*\u001b[39margs, \u001b[38;5;241m*\u001b[39m\u001b[38;5;241m*\u001b[39mkwargs):\n\u001b[1;32m     22\u001b[0m     \u001b[38;5;28;01mimport\u001b[39;00m \u001b[38;5;21;01mtorch\u001b[39;00m\u001b[38;5;21;01m.\u001b[39;00m\u001b[38;5;21;01m_dynamo\u001b[39;00m\n\u001b[0;32m---> 24\u001b[0m     \u001b[38;5;28;01mreturn\u001b[39;00m \u001b[43mtorch\u001b[49m\u001b[38;5;241;43m.\u001b[39;49m\u001b[43m_dynamo\u001b[49m\u001b[38;5;241;43m.\u001b[39;49m\u001b[43mdisable\u001b[49m\u001b[43m(\u001b[49m\u001b[43mfn\u001b[49m\u001b[43m,\u001b[49m\u001b[43m \u001b[49m\u001b[43mrecursive\u001b[49m\u001b[43m)\u001b[49m\u001b[43m(\u001b[49m\u001b[38;5;241;43m*\u001b[39;49m\u001b[43margs\u001b[49m\u001b[43m,\u001b[49m\u001b[43m \u001b[49m\u001b[38;5;241;43m*\u001b[39;49m\u001b[38;5;241;43m*\u001b[39;49m\u001b[43mkwargs\u001b[49m\u001b[43m)\u001b[49m\n",
      "File \u001b[0;32m~/anaconda3/envs/bit-alg/lib/python3.9/site-packages/torch/_dynamo/eval_frame.py:453\u001b[0m, in \u001b[0;36m_TorchDynamoContext.__call__.<locals>._fn\u001b[0;34m(*args, **kwargs)\u001b[0m\n\u001b[1;32m    451\u001b[0m     \u001b[38;5;28;01mreturn\u001b[39;00m fn(\u001b[38;5;241m*\u001b[39margs, \u001b[38;5;241m*\u001b[39m\u001b[38;5;241m*\u001b[39mkwargs)\n\u001b[1;32m    452\u001b[0m \u001b[38;5;28;01mfinally\u001b[39;00m:\n\u001b[0;32m--> 453\u001b[0m     \u001b[43mset_eval_frame\u001b[49m\u001b[43m(\u001b[49m\u001b[43mprior\u001b[49m\u001b[43m)\u001b[49m\n\u001b[1;32m    454\u001b[0m     \u001b[38;5;28;01mfor\u001b[39;00m cleanup \u001b[38;5;129;01min\u001b[39;00m cleanups:\n\u001b[1;32m    455\u001b[0m         cleanup()\n",
      "\u001b[0;31mKeyboardInterrupt\u001b[0m: "
     ]
    }
   ],
   "source": [
    "# Eksperymenty dla obu przypadków\n",
    "for omega in omegas:\n",
    "    print(f\"\\nCase for omega={omega}:\")\n",
    "    for architecture in architectures:\n",
    "        print(f\"\\nArchitecture: {architecture}\")\n",
    "        if omega == 1.0:\n",
    "            num_train_points = num_train_points_a\n",
    "            num_test_points = num_test_points_a\n",
    "        else:\n",
    "            num_train_points = num_train_points_b\n",
    "            num_test_points = num_test_points_b\n",
    "        x_train, u_train = generate_training_data(num_train_points)\n",
    "        x_test = generate_test_data(num_test_points)\n",
    "        model = PINN(architecture[\"num_hidden_layers\"], architecture[\"num_neurons\"])\n",
    "        train_model(model, x_train, u_train)\n",
    "        u_pred = test_model(model, x_test)\n",
    "        u_true = true_solution(x_test)  # Zakładając, że true_solution jest zdefiniowane\n",
    "        mse = np.mean((u_true - u_pred) ** 2)\n",
    "        print(\"Mean Squared Error:\", mse)"
   ]
  },
  {
   "cell_type": "code",
   "execution_count": null,
   "id": "405099e9-9d6c-4de5-816f-7bbf4451ce78",
   "metadata": {},
   "outputs": [],
   "source": []
  },
  {
   "cell_type": "code",
   "execution_count": null,
   "id": "4cb07303-1891-4db5-b3db-ff4f1b5fb5ed",
   "metadata": {},
   "outputs": [],
   "source": []
  },
  {
   "cell_type": "code",
   "execution_count": null,
   "id": "88f49351-eb12-4a49-8038-be2b254ef43c",
   "metadata": {},
   "outputs": [],
   "source": []
  },
  {
   "cell_type": "code",
   "execution_count": null,
   "id": "5fec1b25-623d-4c07-bfff-007da745a136",
   "metadata": {},
   "outputs": [],
   "source": []
  }
 ],
 "metadata": {
  "kernelspec": {
   "display_name": "Python 3 (ipykernel)",
   "language": "python",
   "name": "python3"
  },
  "language_info": {
   "codemirror_mode": {
    "name": "ipython",
    "version": 3
   },
   "file_extension": ".py",
   "mimetype": "text/x-python",
   "name": "python",
   "nbconvert_exporter": "python",
   "pygments_lexer": "ipython3",
   "version": "3.9.18"
  }
 },
 "nbformat": 4,
 "nbformat_minor": 5
}
